{
  "nbformat": 4,
  "nbformat_minor": 0,
  "metadata": {
    "colab": {
      "name": "basic_neural_net",
      "provenance": [],
      "collapsed_sections": [],
      "authorship_tag": "ABX9TyN14t2jj7ndZoahCqAC5mjK",
      "include_colab_link": true
    },
    "kernelspec": {
      "name": "python3",
      "display_name": "Python 3"
    },
    "language_info": {
      "name": "python"
    }
  },
  "cells": [
    {
      "cell_type": "markdown",
      "metadata": {
        "id": "view-in-github",
        "colab_type": "text"
      },
      "source": [
        "<a href=\"https://colab.research.google.com/github/LaonMoon/Deep-Learning/blob/master/basic_neural_net.ipynb\" target=\"_parent\"><img src=\"https://colab.research.google.com/assets/colab-badge.svg\" alt=\"Open In Colab\"/></a>"
      ]
    },
    {
      "cell_type": "markdown",
      "source": [
        "#### NLP with pytorch\n",
        "\n",
        "- 파이토치로 배우는 자연어처리 실습 코드"
      ],
      "metadata": {
        "id": "H_hHW7KdFE9W"
      }
    },
    {
      "cell_type": "markdown",
      "source": [
        "##### Perceptron with pytorch"
      ],
      "metadata": {
        "id": "FPJaLwFU_o_d"
      }
    },
    {
      "cell_type": "code",
      "execution_count": 1,
      "metadata": {
        "id": "EewcgG0w_g3O"
      },
      "outputs": [],
      "source": [
        "import torch\n",
        "import torch.nn as nn"
      ]
    },
    {
      "cell_type": "code",
      "source": [
        "class Perceptron(nn.Module):\n",
        "    # input_dim : 입력 특성의 크기\n",
        "    def __init__(self, input_dim):\n",
        "      super(Perceptron, self).__init__()\n",
        "      self.fc1 = nn.Linear(input_dim, 1)\n",
        "\n",
        "    def forward(self, x_in):\n",
        "        # 활성화 함수 : sigmoid\n",
        "        return torch.sigmoid(self.fc1(x_in)).squeeze()"
      ],
      "metadata": {
        "id": "-8FOB8fwD_Mv"
      },
      "execution_count": 2,
      "outputs": []
    },
    {
      "cell_type": "code",
      "source": [
        "Perceptron(2)"
      ],
      "metadata": {
        "colab": {
          "base_uri": "https://localhost:8080/"
        },
        "id": "BlJ3-JYgF0FG",
        "outputId": "9a3188ed-6b3c-46af-f482-95b86776609a"
      },
      "execution_count": 3,
      "outputs": [
        {
          "output_type": "execute_result",
          "data": {
            "text/plain": [
              "Perceptron(\n",
              "  (fc1): Linear(in_features=2, out_features=1, bias=True)\n",
              ")"
            ]
          },
          "metadata": {},
          "execution_count": 3
        }
      ]
    },
    {
      "cell_type": "markdown",
      "source": [
        "##### Activation function"
      ],
      "metadata": {
        "id": "YhtKEErvGvAz"
      }
    },
    {
      "cell_type": "code",
      "source": [
        "#sigmoid\n",
        "import torch\n",
        "import matplotlib.pyplot as plt\n",
        "\n",
        "x = torch.range(-5., 5, 0.1)\n",
        "y = torch.sigmoid(x)\n",
        "plt.plot(x.numpy(), y.numpy())\n",
        "plt.show()"
      ],
      "metadata": {
        "colab": {
          "base_uri": "https://localhost:8080/",
          "height": 320
        },
        "id": "eLrka6c2GyBw",
        "outputId": "dc3a1b69-7e42-469f-a701-20db781b8d69"
      },
      "execution_count": 4,
      "outputs": [
        {
          "output_type": "stream",
          "name": "stderr",
          "text": [
            "/usr/local/lib/python3.7/dist-packages/ipykernel_launcher.py:5: UserWarning: torch.range is deprecated and will be removed in a future release because its behavior is inconsistent with Python's range builtin. Instead, use torch.arange, which produces values in [start, end).\n",
            "  \"\"\"\n"
          ]
        },
        {
          "output_type": "display_data",
          "data": {
            "image/png": "[encoded data removed]",
            "text/plain": [
              "<Figure size 432x288 with 1 Axes>"
            ]
          },
          "metadata": {
            "needs_background": "light"
          }
        }
      ]
    },
    {
      "cell_type": "code",
      "source": [
        "#hyperbolic tanh\n",
        "x = torch.range(-5., 5, 0.1)\n",
        "y = torch.sigmoid(x)\n",
        "plt.plot(x.numpy(), y.numpy())\n",
        "plt.show()"
      ],
      "metadata": {
        "colab": {
          "base_uri": "https://localhost:8080/",
          "height": 320
        },
        "id": "ZJXrv9DLHTev",
        "outputId": "62762e16-904a-445e-e8dc-8a73dab8c154"
      },
      "execution_count": 5,
      "outputs": [
        {
          "output_type": "stream",
          "name": "stderr",
          "text": [
            "/usr/local/lib/python3.7/dist-packages/ipykernel_launcher.py:2: UserWarning: torch.range is deprecated and will be removed in a future release because its behavior is inconsistent with Python's range builtin. Instead, use torch.arange, which produces values in [start, end).\n",
            "  \n"
          ]
        },
        {
          "output_type": "display_data",
          "data": {
            "image/png": "[encoded data removed]",
            "text/plain": [
              "<Figure size 432x288 with 1 Axes>"
            ]
          },
          "metadata": {
            "needs_background": "light"
          }
        }
      ]
    },
    {
      "cell_type": "code",
      "source": [
        "#ReLU\n",
        "x = torch.range(-5., 5, 0.1)\n",
        "y = torch.relu(x)\n",
        "plt.plot(x.numpy(), y.numpy())\n",
        "plt.show()"
      ],
      "metadata": {
        "colab": {
          "base_uri": "https://localhost:8080/",
          "height": 320
        },
        "id": "PWz-yS5BHkVc",
        "outputId": "7c7062b5-7fa1-4e15-ab8c-a52861f17f95"
      },
      "execution_count": 6,
      "outputs": [
        {
          "output_type": "stream",
          "name": "stderr",
          "text": [
            "/usr/local/lib/python3.7/dist-packages/ipykernel_launcher.py:2: UserWarning: torch.range is deprecated and will be removed in a future release because its behavior is inconsistent with Python's range builtin. Instead, use torch.arange, which produces values in [start, end).\n",
            "  \n"
          ]
        },
        {
          "output_type": "display_data",
          "data": {
            "image/png": "[encoded data removed]",
            "text/plain": [
              "<Figure size 432x288 with 1 Axes>"
            ]
          },
          "metadata": {
            "needs_background": "light"
          }
        }
      ]
    },
    {
      "cell_type": "code",
      "source": [
        "#PReLU\n",
        "#prelu = torch.nn.PReLU(num_parameters=1)\n",
        "prelu = nn.PReLU(num_parameters=1)\n",
        "\n",
        "x = torch.arange(-5., 5., 0.1)\n",
        "y = prelu(x)\n",
        "plt.plot(x.numpy(), y.detach().numpy())\n",
        "plt.show()"
      ],
      "metadata": {
        "colab": {
          "base_uri": "https://localhost:8080/",
          "height": 265
        },
        "id": "L1mkm0nJHzvU",
        "outputId": "051b2221-79c3-453a-f951-3c98aaa77e74"
      },
      "execution_count": 9,
      "outputs": [
        {
          "output_type": "display_data",
          "data": {
            "image/png": "[encoded data removed]",
            "text/plain": [
              "<Figure size 432x288 with 1 Axes>"
            ]
          },
          "metadata": {
            "needs_background": "light"
          }
        }
      ]
    },
    {
      "cell_type": "code",
      "source": [
        "#softmax\n",
        "import torch.nn as nn\n",
        "import torch\n",
        "softmax = nn.Softmax(dim=1)\n",
        "x_input = torch.randn(1,3)\n",
        "y_output = softmax(x_input)\n",
        "print(x_input)\n",
        "print(y_output)\n",
        "print(torch.sum(y_output, dim=1))"
      ],
      "metadata": {
        "colab": {
          "base_uri": "https://localhost:8080/"
        },
        "id": "w004kZ15ItvH",
        "outputId": "8f44a26b-6043-4f05-cd03-1c10f7298de4"
      },
      "execution_count": 11,
      "outputs": [
        {
          "output_type": "stream",
          "name": "stdout",
          "text": [
            "tensor([[-2.1389, -0.3151,  1.0078]])\n",
            "tensor([[0.0328, 0.2034, 0.7637]])\n",
            "tensor([1.0000])\n"
          ]
        }
      ]
    }
  ]
}